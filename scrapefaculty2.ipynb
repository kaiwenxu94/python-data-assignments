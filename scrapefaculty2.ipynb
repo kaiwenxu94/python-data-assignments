{
 "cells": [
  {
   "cell_type": "code",
   "execution_count": 1,
   "metadata": {},
   "outputs": [
    {
     "data": {
      "text/plain": [
       "<!DOCTYPE html>\n",
       "\n",
       "<html class=\"no-js\" lang=\"en\">\n",
       "<head>\n",
       "<title>Faculty Members | HKBU School of Communication</title>\n",
       "<meta content=\"IE=edge,chrome=1; text/html; \" http-equiv=\"X-UA-Compatible\"/>\n",
       "<meta charset=\"utf-8\"/>\n",
       "<meta content=\"no-cache\" http-equiv=\"Pragma\"/>\n",
       "<meta content=\"telephone=no\" name=\"format-detection\"/>\n",
       "<meta content=\"width=960px\" name=\"viewport\"/>\n",
       "<meta content=\"\" name=\"keywords\">\n",
       "<meta name=\"\">\n",
       "<meta content=\"\" property=\"og:title\">\n",
       "<meta content=\"website\" property=\"og:type\">\n",
       "<meta content=\"\" property=\"og:url\">\n",
       "<meta content=\"\" property=\"og:image\"/>\n",
       "<meta content=\"\" property=\"og:site_name \"/>\n",
       "<meta content=\"\" property=\"og:description\"/>\n",
       "<link href=\"\" rel=\"canonical\"/>\n",
       "<!-- Common Setting Start-->\n",
       "<link href=\"../../favicon.ico\" rel=\"shortcut icon\"/>\n",
       "<link href=\"../../lib/css/reset.css\" rel=\"stylesheet\"/>\n",
       "<link href=\"../../lib/css/sharestyles.css\" rel=\"stylesheet\"/>\n",
       "<link href=\"../../lib/css/eng/common.css\" rel=\"stylesheet\"/>\n",
       "<link href=\"../../lib/css/colorbox.css\" rel=\"stylesheet\"/>\n",
       "<link href=\"../../lib/css/jquery.bxslider.css\" rel=\"stylesheet\"/>\n",
       "<script src=\"../../lib/js/modernizr-2.5.3.min.js\" type=\"text/javascript\"></script>\n",
       "<script src=\"../../lib/js/jquery-1.7.1.min.js\" type=\"text/javascript\"></script>\n",
       "<script src=\"../../lib/js/js-custom.js\" type=\"text/javascript\"></script>\n",
       "<script src=\"../../lib/js/jquery.colorbox-min.js\" type=\"text/javascript\"></script>\n",
       "<script src=\"../../lib/js/jquery.bxslider.js\" type=\"text/javascript\"></script>\n",
       "<script>\n",
       "  (function() {\n",
       "    var cx = '016153578059687857787:dslv4_ppl0o';\n",
       "    var gcse = document.createElement('script');\n",
       "    gcse.type = 'text/javascript';\n",
       "    gcse.async = true;\n",
       "    gcse.src = (document.location.protocol == 'https:' ? 'https:' : 'http:') +\n",
       "        '//www.google.com/cse/cse.js?cx=' + cx;\n",
       "    var s = document.getElementsByTagName('script')[0];\n",
       "    s.parentNode.insertBefore(gcse, s);\n",
       "  })();\n",
       "</script>\n",
       "<!-- Common Setting End-->\n",
       "</meta></meta></meta></meta></meta></head>\n",
       "<body>\n",
       "<div id=\"wrapper\">\n",
       "<div id=\"main\">\n",
       "<!-- Header Setting Start-->\n",
       "<gcse:searchbox newwindow=\"false\" queryparametername=\"search\" resultsurl=\"../search/search-result.htm\"></gcse:searchbox>\n",
       "<header>\n",
       "<!-- Top Nav Setting Start -->\n",
       "<div class=\"topnav clearFix\">\n",
       "<div class=\"logoArea fL\">\n",
       "<div class=\"logoBU\"><a href=\"http://www.hkbu.edu.hk\" target=\"_blank\" title=\"Hong Kong Baptist University\"><img alt=\"Hong Kong Baptist University\" src=\"../../lib/images/common/logo_baptist_university.gif\"/></a></div>\n",
       "<div class=\"logoSOC\"><a href=\"../../english/front/index.htm\" title=\"School of Communication\"><img alt=\"School of Communication\" src=\"../../lib/images/common/logo_school_of_communication.gif\"/></a></div>\n",
       "</div>\n",
       "<div class=\"searchLangArea fR\">\n",
       "<div class=\"clearFix\">\n",
       "<ul class=\"langBar fR\">\n",
       "<li><a href=\"javascript:langChg();\">繁體</a></li>\n",
       "<li>|</li>\n",
       "<li><a href=\"javascript:;\">Eng</a></li>\n",
       "</ul>\n",
       "<div class=\"sepLine fR\"></div>\n",
       "<div class=\"searchBar fR\">\n",
       "<ul>\n",
       "<li>\n",
       "<li class=\"clearFix\">\n",
       "<form action=\"../search/search-result.htm\" id=\"cse-search-box\">\n",
       "<input name=\"cx\" type=\"hidden\" value=\"016153578059687857787:dslv4_ppl0o\"/>\n",
       "<input name=\"ie\" type=\"hidden\" value=\"UTF-8\"/>\n",
       "<input class=\"fL\" name=\"q\" size=\"31\" type=\"text\"/>\n",
       "<input class=\"fL\" name=\"sa\" style=\"width:55px; border:none; background:none; padding-left:5px;\" type=\"submit\" value=\"Search\"/>\n",
       "</form>\n",
       "</li>\n",
       "</li></ul>\n",
       "</div>\n",
       "</div>\n",
       "<div class=\"subNavArea\">\n",
       "<ul>\n",
       "<li><a href=\"../../english/links/m_main.htm\">Quick links</a></li>\n",
       "<li><a href=\"../../english/misc/sitemap.htm\">Sitemap</a></li>\n",
       "<li><a href=\"http://comd.hkbu.edu.hk/commnet/staff.htm\" target=\"_blank\">Staff intranet</a></li>\n",
       "<li><a href=\"../../english/about_comm/m_contact.htm\">Contact Us</a></li>\n",
       "</ul>\n",
       "</div>\n",
       "</div>\n",
       "</div>\n",
       "<!-- Top Nav Setting End -->\n",
       "<!-- Main Nav Setting Start -->\n",
       "<div class=\"mainNav\">\n",
       "<ul>\n",
       "<li><a href=\"../../english/about_comm/m_school.htm\">About Us</a></li>\n",
       "<li><a href=\"../../english/academic_programmes/m_ug_prog.htm\">Programmes</a></li>\n",
       "<li><a href=\"../../english/people/m_facutly_dept.htm\">People</a></li>\n",
       "<li><a href=\"../../english/research_n_development/y_rnd_main.htm\">Research</a></li>\n",
       "<li><a href=\"../../english/students/m_admission.htm\">Students</a></li>\n",
       "<li><a href=\"../../english/alumni/m_assoc_message.htm\">Alumni</a></li>\n",
       "<li><a href=\"../../english/news/m_ach.htm\">News</a></li>\n",
       "</ul>\n",
       "</div>\n",
       "<!-- Main Nav Setting End -->\n",
       "</header>\n",
       "<!-- Header Setting End-->\n",
       "<!-- Main Content Setting Start -->\n",
       "<div class=\"mainContent\">\n",
       "<div class=\"breadCrumbArea\"><a href=\"../../english/front/index.htm\">Home</a> &gt; <a href=\"../../english/people/m_staff.htm\">People</a> &gt; <a href=\"../../english/people/m_facutly_dept.htm\">Faculty Members</a></div>\n",
       "<div class=\"clearFix\">\n",
       "<div class=\"lColSideArea\">\n",
       "<!-- Sidemenu Setting Start-->\n",
       "<h2 title=\"People\"><img alt=\"People\" src=\"../../lib/images/common/title/eng/tit_people.gif\"/></h2>\n",
       "<ul>\n",
       "<li><a href=\"../../english/people/m_facutly_dept.htm\">Faculty Members</a></li>\n",
       "<li><a href=\"../../english/people/m_staff.htm\">Supporting Staff</a></li>\n",
       "</ul>\n",
       "<!-- Sidemenu Setting End-->\n",
       "</div>\n",
       "<div class=\"rColSideArea peopleArea\">\n",
       "<h1>Faculty Members</h1>\n",
       "<!-- Member Tab Setting Start-->\n",
       "<div class=\"membersTab clearFix\"> <span>\n",
       "<ul class=\"clearFix\">\n",
       "<li class=\"first\"><a href=\"../../english/people/m_facutly_dept.htm\">School's Office</a></li>\n",
       "<li><a href=\"../../english/people/m_facutly_dept_academy_film.htm\">Academy of Film</a></li>\n",
       "<li><a href=\"../../english/people/m_facutly_dept_communication_studies.htm\">Department of Communication Studies</a></li>\n",
       "<li><a href=\"../../english/people/m_facutly_dept_journalism.htm\">Department of Journalism</a></li>\n",
       "</ul>\n",
       "</span> </div>\n",
       "<!-- Member Tab Setting End-->\n",
       "<h2>School's Office</h2>\n",
       "<div class=\"membersListArea\">\n",
       "<ul>\n",
       "<table border=\"0\" cellpadding=\"0\" cellspacing=\"0\" width=\"100%\">\n",
       "<tr> </tr>\n",
       "</table>\n",
       "<li>\n",
       "<table border=\"0\" cellpadding=\"0\" cellspacing=\"0\" width=\"100%\">\n",
       "<tr>\n",
       "<td class=\"tmbArea\"><a href=\"../../english/people/m_facutly_huangyu.htm\"><img src=\"../../lib/images/people/faculty-members/1_huangyu_web.jpg\"/></a></td>\n",
       "<td><table border=\"0\" cellpadding=\"0\" cellspacing=\"0\" width=\"100%\">\n",
       "<tr>\n",
       "<td class=\"personNameArea\"><p>HUANG, YU<br/>\n",
       "                              黃煜</p></td>\n",
       "<td class=\"descArea\"><h3>Dean and Professor 教授兼院長</h3>\n",
       "<p>T: (852) 3411 7382 <br/>\n",
       "<a href=\"mailto:s03033@hkbu.edu.hk\">s03033@hkbu.edu.hk</a></p>\n",
       "<!--div class=\"btnArea\">\n",
       "                              <p class=\"btnAbout\"><a href=\"javascript:;\" class=\"txtPink\">About</a></p>\n",
       "                            </div></td>\n",
       "                        </tr>\n",
       "                        <tr>\n",
       "                          <td></td>\n",
       "                          <td class=\"descArea\"><div class=\"descDetails\">\n",
       "                              <h3>Biography</h3>\n",
       "                              <p>Ph.D., Westminster<br>\n",
       "                                Acting Dean, School of Communicaiton<br>\n",
       "                                Professor, Department of Journalism<br>\n",
       "                                <br>\n",
       "                                <b>Prof. Huang Yu</b> received his Ph.D from the University of Westminster, U.K in 1993. Since 1994, he has been teaching in the School of Communication. He is also the Executive Associate Dean of the Graduate School, Hong Kong Baptist University.<br>\n",
       "                                <br>\n",
       "                                His current research interests include: Mass media in Hong Kong and mainland China, Media representation/construction, Social relation and media changes, Political economy of media/communication studies, News/media and social development, Media and Chinese.</p>\n",
       "                            </div>\n",
       "                            <div>\n",
       "                              <p class=\"btnClose\"><a href=\"javascript:;\">Close</a></p>\n",
       "                            </div--></td>\n",
       "</tr>\n",
       "</table> </td>\n",
       "</tr>\n",
       "</table>\n",
       "</li>\n",
       "<li>\n",
       "<table border=\"0\" cellpadding=\"0\" cellspacing=\"0\" width=\"100%\">\n",
       "<tr>\n",
       "<td class=\"tmbArea\"><a href=\"m_facutly_cklau.htm\"><img src=\"../../lib/images/people/faculty-members/Lau CK.jpg\"/></a></td>\n",
       "<td><table border=\"0\" cellpadding=\"0\" cellspacing=\"0\" width=\"100%\">\n",
       "<tr>\n",
       "<td class=\"personNameArea\"><p>LAU C. K.<br/>\n",
       "                          劉志權</p></td>\n",
       "<td class=\"descArea\"><h3>Associate Dean and Principal Lecturer<br/> \n",
       "                          首席講師兼副院長</h3>\n",
       "<p>T: (852) 3411 2396 <br/>\n",
       "<a href=\"mailto:ck-lau@hkbu.edu.hk\">ck-lau@hkbu.edu.hk</a></p>\n",
       "<!--div class=\"btnArea\">\n",
       "                              <p class=\"btnAbout\"><a href=\"javascript:;\" class=\"txtPink\">About</a></p>\n",
       "                            </div></td>\n",
       "                        </tr>\n",
       "                        <tr>\n",
       "                          <td></td>\n",
       "                          <td class=\"descArea\"><div class=\"descDetails\">\n",
       "                              <h3>Biography</h3>\n",
       "                              <p>Ph.D., University of Florida<br>\n",
       "                                Acting Dean, School of Communicaiton<br>\n",
       "                                Professor, Department of Communication Studies<br>\n",
       "                                <br>\n",
       "                                <b>Ringo Ma</b> (Ph.D., University of Florida), Professor in the Communication Studies Department and Acting Dean of the School of Communication, Hong Kong Baptist University, had taught in Canada and the U.S. for 15 years before he joined the faculty of HKBU. He was recipient of 1997 Distinguished Scholarship Award from the International and Intercultural Communication Division of National Communication Association (for the \"Best Article\" published in 1996), 2005 Excellent Service Award from the Association for Chinese Communication Studies (ACCS), and 2007, 2009 &amp; 2011 Awards for School of Communication's outstanding performance in teaching from Hong Kong Baptist University. His research is cited in many books and journal articles in intercultural communication, communication theory, organizational communication and interpersonal communication.</p>\n",
       "                            </div>\n",
       "                            <div>\n",
       "                              <p class=\"btnMore\"><a href=\"../../lib/images/people/faculty-members/MA Ringo.pdf\" class=\"txtPink\">More</a></p>\n",
       "                              <p class=\"btnClose\"><a href=\"javascript:;\">Close</a></p>\n",
       "                            </div--></td>\n",
       "</tr>\n",
       "</table></td>\n",
       "</tr>\n",
       "</table>\n",
       "</li>\n",
       "<li>\n",
       "<table border=\"0\" cellpadding=\"0\" cellspacing=\"0\" width=\"100%\">\n",
       "<tr>\n",
       "<td class=\"tmbArea\"><a href=\"http://www.coms.hkbu.edu.hk/~mfung/\" target=\"_blank\"><img src=\"../../lib/images/people/faculty-members/FUNG Maggie.jpg\"/></a></td>\n",
       "<td><table border=\"0\" cellpadding=\"0\" cellspacing=\"0\" width=\"100%\">\n",
       "<tr>\n",
       "<td class=\"personNameArea\"><p>FUNG, Maggie S. K.<br/>\n",
       "                          馮筱涓</p></td>\n",
       "<td class=\"descArea\"><h3>Senior Lecturer 高級講師</h3>\n",
       "<p>T: (852) 3411 3151<br/>\n",
       "<a href=\"mailto:mfung@hkbu.edu.hk\">mfung@hkbu.edu.hk</a></p></td>\n",
       "</tr>\n",
       "</table></td>\n",
       "</tr>\n",
       "</table>\n",
       "<li>\n",
       "<table border=\"0\" cellpadding=\"0\" cellspacing=\"0\" width=\"100%\">\n",
       "<tr>\n",
       "<td class=\"tmbArea\"><img src=\"../../lib/images/people/faculty-members/bess_wang.jpg\"/></td>\n",
       "<td><table border=\"0\" cellpadding=\"0\" cellspacing=\"0\" width=\"100%\">\n",
       "<tr>\n",
       "<td class=\"personNameArea\"><p>WANG, Bess Y.<br/>\n",
       "                          王悅</p></td>\n",
       "<td class=\"descArea\"><h3>Senior Lecturer 高級講師</h3>\n",
       "<p>T: (852) 3411 3270<br/>\n",
       "<a href=\"mailto:kenbess2000@hkbu.edu.hk\">kenbess2000@hkbu.edu.hk</a></p></td>\n",
       "</tr>\n",
       "</table></td>\n",
       "</tr>\n",
       "</table>\n",
       "</li>\n",
       "<li>\n",
       "<table border=\"0\" cellpadding=\"0\" cellspacing=\"0\" width=\"100%\">\n",
       "<tr>\n",
       "<td class=\"tmbArea\"><img src=\"../../lib/images/people/faculty-members/WONG Tin Chi.jpg\"/></td>\n",
       "<td><table border=\"0\" cellpadding=\"0\" cellspacing=\"0\" width=\"100%\">\n",
       "<tr>\n",
       "<td class=\"personNameArea\"><p>WONG, Tin Chi<br/>\n",
       "                          黃天賜</p></td>\n",
       "<td class=\"descArea\"><h3>Senior Lecturer 高級講師</h3>\n",
       "<p>T: (852) 3411 3118<br/>\n",
       "<a href=\"mailto:wtinchi@hkbu.edu.hk\">wtinchi@hkbu.edu.hk</a></p></td>\n",
       "</tr>\n",
       "</table></td>\n",
       "</tr>\n",
       "</table>\n",
       "</li>\n",
       "<li>\n",
       "<table border=\"0\" cellpadding=\"0\" cellspacing=\"0\" width=\"100%\">\n",
       "<tr>\n",
       "<td class=\"tmbArea\"><a href=\"../../files/mirandama_cv_052018.pdf\"><img src=\"../../lib/images/people/faculty-members/ma_miranda.jpg\"/></a></td>\n",
       "<td><table border=\"0\" cellpadding=\"0\" cellspacing=\"0\" width=\"100%\">\n",
       "<tr>\n",
       "<td class=\"personNameArea\"><p>MA, Miranda L. Y.<br/>\n",
       "                          馬麗儀</p></td>\n",
       "<td class=\"descArea\"><h3>Lecturer 講師</h3>\n",
       "<p>T: (852) 3411 3046<br/>\n",
       "<a href=\"mailto:miranda@hkbu.edu.hk\">miranda@hkbu.edu.hk</a></p></td>\n",
       "</tr>\n",
       "</table></td>\n",
       "</tr>\n",
       "</table>\n",
       "</li>\n",
       "<li>\n",
       "<table border=\"0\" cellpadding=\"0\" cellspacing=\"0\" width=\"100%\">\n",
       "<tr>\n",
       "<td class=\"tmbArea\"><a href=\"http://www.coms.hkbu.edu.hk/~edwinluk/\"><img src=\"../../lib/images/people/faculty-members/LUK Edwin.jpg\"/></a></td>\n",
       "<td><table border=\"0\" cellpadding=\"0\" cellspacing=\"0\" width=\"100%\">\n",
       "<tr>\n",
       "<td class=\"personNameArea\"><p>LUK, Edwin K. C.<br/>\n",
       "                          陸家稷</p></td>\n",
       "<td class=\"descArea\"><h3>Lecturer 講師</h3>\n",
       "<p>T: (852) 3411 3137<br/>\n",
       "<a href=\"mailto:edwinluk@hkbu.edu.hk\">edwinluk@hkbu.edu.hk</a></p></td>\n",
       "</tr>\n",
       "</table></td>\n",
       "</tr>\n",
       "</table>\n",
       "</li>\n",
       "<li>\n",
       "<table border=\"0\" cellpadding=\"0\" cellspacing=\"0\" width=\"100%\">\n",
       "<tr>\n",
       "<td class=\"tmbArea\"><a href=\"../../files/alex_tang_bio_082016.pdf\"><img src=\"../../lib/images/people/faculty-members/alex_tang.jpg\"/></a></td>\n",
       "<td><table border=\"0\" cellpadding=\"0\" cellspacing=\"0\" width=\"100%\">\n",
       "<tr>\n",
       "<td class=\"personNameArea\"><p>TANG, Alex H. M.<br/>\n",
       "                          鄧皓文</p></td>\n",
       "<td class=\"descArea\"><h3>Lecturer 講師</h3>\n",
       "<p>T: (852) 3411 3163<br/>\n",
       "<a href=\"mailto:alex_tang@hkbu.edu.hk\">alex_tang@hkbu.edu.hk</a></p></td>\n",
       "</tr>\n",
       "</table></td>\n",
       "</tr>\n",
       "</table>\n",
       "</li>\n",
       "<li>\n",
       "<table border=\"0\" cellpadding=\"0\" cellspacing=\"0\" width=\"100%\">\n",
       "<tr>\n",
       "<td class=\"tmbArea\"><a href=\"http://www.coms.hkbu.edu.hk/~lennon/\" target=\"_blank\"><img src=\"../../lib/images/people/faculty-members/TSANG Lennon.jpg\"/></a></td>\n",
       "<td><table border=\"0\" cellpadding=\"0\" cellspacing=\"0\" width=\"100%\">\n",
       "<tr>\n",
       "<td class=\"personNameArea\"><p>TSANG, Lennon L. L.<br/>\n",
       "                          曾良倫</p></td>\n",
       "<td class=\"descArea\"><h3>Lecturer 講師</h3>\n",
       "<p>T: (852) 3411 3152<br/>\n",
       "<a href=\"mailto:lennon@hkbu.edu.hk\">lennon@hkbu.edu.hk</a></p></td>\n",
       "</tr>\n",
       "</table></td>\n",
       "</tr>\n",
       "</table>\n",
       "</li>\n",
       "</li></ul>\n",
       "</div>\n",
       "</div>\n",
       "</div>\n",
       "</div>\n",
       "<!-- Main Content Setting End -->\n",
       "<!-- Footer Setting Start-->\n",
       "<script>\n",
       "  (function(i,s,o,g,r,a,m){i['GoogleAnalyticsObject']=r;i[r]=i[r]||function(){\n",
       "  (i[r].q=i[r].q||[]).push(arguments)},i[r].l=1*new Date();a=s.createElement(o),\n",
       "  m=s.getElementsByTagName(o)[0];a.async=1;a.src=g;m.parentNode.insertBefore(a,m)\n",
       "  })(window,document,'script','https://www.google-analytics.com/analytics.js','ga');\n",
       "\n",
       "  ga('create', 'UA-96017296-1', 'auto');\n",
       "  ga('send', 'pageview');\n",
       "\n",
       "</script>\n",
       "<footer>\n",
       "<div class=\"inner\">\n",
       "<table border=\"0\" cellpadding=\"0\" cellspacing=\"0\" width=\"100%\">\n",
       "<tr>\n",
       "<td class=\"addressColArea\" valign=\"top\" width=\"30%\"><img src=\"../../lib/images/common/ico_address.gif\"/><br/>\n",
       "              Communication and Visual Arts Building<br/>\n",
       "              5 Hereford Road, Kowloon Tong<br/>\n",
       "              Kowloon, Hong Kong<br/>\n",
       "<a href=\"../../english/about_comm/m_contact.htm\">Map</a></td>\n",
       "<td class=\"infoColArea\" valign=\"top\" width=\"20%\"><img src=\"../../lib/images/common/ico_info.gif\"/><br/>\n",
       "              T : 3411 8154<br/>\n",
       "              F : 3411 7375<br/>\n",
       "              E : <a href=\"mailto:comd@hkbu.edu.hk\">comd@hkbu.edu.hk</a></td>\n",
       "<td class=\"socialColArea\" valign=\"top\" width=\"30%\">\n",
       "<a href=\"https://www.facebook.com/hkbu.comm.sch\" target=\"_blank\"><img src=\"../../lib/images/common/ico_facebook.gif\"/></a> <a href=\"http://www.weibo.com/hkbucommtpg\" target=\"_blank\"><img src=\"../../lib/images/common/ico_weibo.jpg\"/></a> <a href=\"../../english/about_comm/m_wechat.htm\" target=\"_blank\"><img src=\"../../lib/images/common/ico_wechat.jpg\"/></a> <a href=\"https://www.instagram.com/hkbucomm/\" target=\"_blank\"><img src=\"../../lib/images/common/ico_instagram.jpg\"/></a>\n",
       "</td>\n",
       "<td class=\"copyrightColArea\" style=\"text-align:right;\" valign=\"baseline\" width=\"15%\">© 2017 Copyright<br/>\n",
       "              School of Communication<br/>\n",
       "              Hong Kong Baptist University<br/>\n",
       "              All rights reserved<br/>\n",
       "<br/>\n",
       "<a class=\"policy\" href=\"../../english/misc/privacy-policy.htm\">Privacy Policy</a></td>\n",
       "</tr>\n",
       "</table>\n",
       "</div>\n",
       "</footer>\n",
       "<!-- Footer Setting End-->\n",
       "</div>\n",
       "</div>\n",
       "<script type=\"text/javascript\">\n",
       "$(document).ready(function(){\n",
       "})\n",
       "$(window).load(function(){\n",
       "})\n",
       "</script>\n",
       "</body>\n",
       "</html>"
      ]
     },
     "execution_count": 1,
     "metadata": {},
     "output_type": "execute_result"
    }
   ],
   "source": [
    "import requests\n",
    "import csv\n",
    "from bs4 import BeautifulSoup\n",
    "\n",
    "r = requests.get('http://www.comm.hkbu.edu.hk/comd-www/english/people/m_facutly_dept.htm')\n",
    "r.encoding = 'utf-8'\n",
    "data = BeautifulSoup(r.text,\"html.parser\")\n",
    "data"
   ]
  },
  {
   "cell_type": "code",
   "execution_count": 2,
   "metadata": {},
   "outputs": [
    {
     "data": {
      "text/plain": [
       "[<td class=\"personNameArea\"><p>HUANG, YU<br/>\n",
       "                               黃煜</p></td>,\n",
       " <td class=\"personNameArea\"><p>LAU C. K.<br/>\n",
       "                           劉志權</p></td>,\n",
       " <td class=\"personNameArea\"><p>FUNG, Maggie S. K.<br/>\n",
       "                           馮筱涓</p></td>,\n",
       " <td class=\"personNameArea\"><p>WANG, Bess Y.<br/>\n",
       "                           王悅</p></td>,\n",
       " <td class=\"personNameArea\"><p>WONG, Tin Chi<br/>\n",
       "                           黃天賜</p></td>,\n",
       " <td class=\"personNameArea\"><p>MA, Miranda L. Y.<br/>\n",
       "                           馬麗儀</p></td>,\n",
       " <td class=\"personNameArea\"><p>LUK, Edwin K. C.<br/>\n",
       "                           陸家稷</p></td>,\n",
       " <td class=\"personNameArea\"><p>TANG, Alex H. M.<br/>\n",
       "                           鄧皓文</p></td>,\n",
       " <td class=\"personNameArea\"><p>TSANG, Lennon L. L.<br/>\n",
       "                           曾良倫</p></td>]"
      ]
     },
     "execution_count": 2,
     "metadata": {},
     "output_type": "execute_result"
    }
   ],
   "source": [
    "a=data.find_all('td', {'class': 'personNameArea'})\n",
    "a"
   ]
  },
  {
   "cell_type": "code",
   "execution_count": 3,
   "metadata": {},
   "outputs": [
    {
     "data": {
      "text/plain": [
       "['HUANG, YU 黃煜',\n",
       " 'LAU C. K. 劉志權',\n",
       " 'FUNG, Maggie S. K. 馮筱涓',\n",
       " 'WANG, Bess Y. 王悅',\n",
       " 'WONG, Tin Chi 黃天賜',\n",
       " 'MA, Miranda L. Y. 馬麗儀',\n",
       " 'LUK, Edwin K. C. 陸家稷',\n",
       " 'TANG, Alex H. M. 鄧皓文',\n",
       " 'TSANG, Lennon L. L. 曾良倫']"
      ]
     },
     "execution_count": 3,
     "metadata": {},
     "output_type": "execute_result"
    }
   ],
   "source": [
    "name=[]\n",
    "for item in a:\n",
    "    t=item.text.split()\n",
    "    s=' '.join(t)\n",
    "    name.append(s)\n",
    "name"
   ]
  },
  {
   "cell_type": "code",
   "execution_count": 4,
   "metadata": {},
   "outputs": [
    {
     "data": {
      "text/plain": [
       "[<h3>Dean and Professor 教授兼院長</h3>,\n",
       " <h3>Associate Dean and Principal Lecturer<br/> \n",
       "                           首席講師兼副院長</h3>,\n",
       " <h3>Senior Lecturer 高級講師</h3>,\n",
       " <h3>Senior Lecturer 高級講師</h3>,\n",
       " <h3>Senior Lecturer 高級講師</h3>,\n",
       " <h3>Lecturer 講師</h3>,\n",
       " <h3>Lecturer 講師</h3>,\n",
       " <h3>Lecturer 講師</h3>,\n",
       " <h3>Lecturer 講師</h3>]"
      ]
     },
     "execution_count": 4,
     "metadata": {},
     "output_type": "execute_result"
    }
   ],
   "source": [
    "b=data.find_all('h3')\n",
    "b"
   ]
  },
  {
   "cell_type": "code",
   "execution_count": 5,
   "metadata": {},
   "outputs": [
    {
     "data": {
      "text/plain": [
       "['Dean and Professor 教授兼院長',\n",
       " 'Associate Dean and Principal Lecturer 首席講師兼副院長',\n",
       " 'Senior Lecturer 高級講師',\n",
       " 'Senior Lecturer 高級講師',\n",
       " 'Senior Lecturer 高級講師',\n",
       " 'Lecturer 講師',\n",
       " 'Lecturer 講師',\n",
       " 'Lecturer 講師',\n",
       " 'Lecturer 講師']"
      ]
     },
     "execution_count": 5,
     "metadata": {},
     "output_type": "execute_result"
    }
   ],
   "source": [
    "titles=[]\n",
    "for item in b:\n",
    "    t=item.text.split()\n",
    "    s=' '.join(t)\n",
    "    titles.append(s)\n",
    "titles"
   ]
  },
  {
   "cell_type": "code",
   "execution_count": 10,
   "metadata": {},
   "outputs": [
    {
     "data": {
      "text/plain": [
       "[<p>HUANG, YU<br/>\n",
       "                               黃煜</p>, <p>T: (852) 3411 7382 <br/>\n",
       " <a href=\"mailto:s03033@hkbu.edu.hk\">s03033@hkbu.edu.hk</a></p>, <p>LAU C. K.<br/>\n",
       "                           劉志權</p>, <p>T: (852) 3411 2396 <br/>\n",
       " <a href=\"mailto:ck-lau@hkbu.edu.hk\">ck-lau@hkbu.edu.hk</a></p>, <p>FUNG, Maggie S. K.<br/>\n",
       "                           馮筱涓</p>, <p>T: (852) 3411 3151<br/>\n",
       " <a href=\"mailto:mfung@hkbu.edu.hk\">mfung@hkbu.edu.hk</a></p>, <p>WANG, Bess Y.<br/>\n",
       "                           王悅</p>, <p>T: (852) 3411 3270<br/>\n",
       " <a href=\"mailto:kenbess2000@hkbu.edu.hk\">kenbess2000@hkbu.edu.hk</a></p>, <p>WONG, Tin Chi<br/>\n",
       "                           黃天賜</p>, <p>T: (852) 3411 3118<br/>\n",
       " <a href=\"mailto:wtinchi@hkbu.edu.hk\">wtinchi@hkbu.edu.hk</a></p>, <p>MA, Miranda L. Y.<br/>\n",
       "                           馬麗儀</p>, <p>T: (852) 3411 3046<br/>\n",
       " <a href=\"mailto:miranda@hkbu.edu.hk\">miranda@hkbu.edu.hk</a></p>, <p>LUK, Edwin K. C.<br/>\n",
       "                           陸家稷</p>, <p>T: (852) 3411 3137<br/>\n",
       " <a href=\"mailto:edwinluk@hkbu.edu.hk\">edwinluk@hkbu.edu.hk</a></p>, <p>TANG, Alex H. M.<br/>\n",
       "                           鄧皓文</p>, <p>T: (852) 3411 3163<br/>\n",
       " <a href=\"mailto:alex_tang@hkbu.edu.hk\">alex_tang@hkbu.edu.hk</a></p>, <p>TSANG, Lennon L. L.<br/>\n",
       "                           曾良倫</p>, <p>T: (852) 3411 3152<br/>\n",
       " <a href=\"mailto:lennon@hkbu.edu.hk\">lennon@hkbu.edu.hk</a></p>]"
      ]
     },
     "execution_count": 10,
     "metadata": {},
     "output_type": "execute_result"
    }
   ],
   "source": [
    "c=data.find_all('p')\n",
    "c"
   ]
  },
  {
   "cell_type": "code",
   "execution_count": 12,
   "metadata": {},
   "outputs": [
    {
     "data": {
      "text/plain": [
       "['HUANG, YU 黃煜',\n",
       " 'T: (852) 3411 7382 s03033@hkbu.edu.hk',\n",
       " 'LAU C. K. 劉志權',\n",
       " 'T: (852) 3411 2396 ck-lau@hkbu.edu.hk',\n",
       " 'FUNG, Maggie S. K. 馮筱涓',\n",
       " 'T: (852) 3411 3151 mfung@hkbu.edu.hk',\n",
       " 'WANG, Bess Y. 王悅',\n",
       " 'T: (852) 3411 3270 kenbess2000@hkbu.edu.hk',\n",
       " 'WONG, Tin Chi 黃天賜',\n",
       " 'T: (852) 3411 3118 wtinchi@hkbu.edu.hk',\n",
       " 'MA, Miranda L. Y. 馬麗儀',\n",
       " 'T: (852) 3411 3046 miranda@hkbu.edu.hk',\n",
       " 'LUK, Edwin K. C. 陸家稷',\n",
       " 'T: (852) 3411 3137 edwinluk@hkbu.edu.hk',\n",
       " 'TANG, Alex H. M. 鄧皓文',\n",
       " 'T: (852) 3411 3163 alex_tang@hkbu.edu.hk',\n",
       " 'TSANG, Lennon L. L. 曾良倫',\n",
       " 'T: (852) 3411 3152 lennon@hkbu.edu.hk']"
      ]
     },
     "execution_count": 12,
     "metadata": {},
     "output_type": "execute_result"
    }
   ],
   "source": [
    "d=[]\n",
    "for item in c:\n",
    "    t=item.text.split()\n",
    "    s=' '.join(t)\n",
    "    d.append(s)\n",
    "d"
   ]
  },
  {
   "cell_type": "code",
   "execution_count": 13,
   "metadata": {},
   "outputs": [
    {
     "data": {
      "text/plain": [
       "['T: (852) 3411 7382 s03033@hkbu.edu.hk',\n",
       " 'T: (852) 3411 2396 ck-lau@hkbu.edu.hk',\n",
       " 'T: (852) 3411 3151 mfung@hkbu.edu.hk',\n",
       " 'T: (852) 3411 3270 kenbess2000@hkbu.edu.hk',\n",
       " 'T: (852) 3411 3118 wtinchi@hkbu.edu.hk',\n",
       " 'T: (852) 3411 3046 miranda@hkbu.edu.hk',\n",
       " 'T: (852) 3411 3137 edwinluk@hkbu.edu.hk',\n",
       " 'T: (852) 3411 3163 alex_tang@hkbu.edu.hk',\n",
       " 'T: (852) 3411 3152 lennon@hkbu.edu.hk']"
      ]
     },
     "execution_count": 13,
     "metadata": {},
     "output_type": "execute_result"
    }
   ],
   "source": [
    "contact=[]\n",
    "for i in range(1,len(d),2):\n",
    "    contact.append(d[i])\n",
    "contact"
   ]
  },
  {
   "cell_type": "code",
   "execution_count": 32,
   "metadata": {},
   "outputs": [
    {
     "data": {
      "text/plain": [
       "18"
      ]
     },
     "execution_count": 32,
     "metadata": {},
     "output_type": "execute_result"
    }
   ],
   "source": [
    "length=len('T: (852) 3411 7382')\n",
    "length"
   ]
  },
  {
   "cell_type": "code",
   "execution_count": 34,
   "metadata": {},
   "outputs": [
    {
     "data": {
      "text/plain": [
       "['T: (852) 3411 7382',\n",
       " 'T: (852) 3411 2396',\n",
       " 'T: (852) 3411 3151',\n",
       " 'T: (852) 3411 3270',\n",
       " 'T: (852) 3411 3118',\n",
       " 'T: (852) 3411 3046',\n",
       " 'T: (852) 3411 3137',\n",
       " 'T: (852) 3411 3163',\n",
       " 'T: (852) 3411 3152']"
      ]
     },
     "execution_count": 34,
     "metadata": {},
     "output_type": "execute_result"
    }
   ],
   "source": [
    "telephone=[]\n",
    "for item in contact:\n",
    "    t=item[:(length)]\n",
    "    telephone.append(t)\n",
    "telephone"
   ]
  },
  {
   "cell_type": "code",
   "execution_count": 36,
   "metadata": {},
   "outputs": [
    {
     "data": {
      "text/plain": [
       "['s03033@hkbu.edu.hk',\n",
       " 'ck-lau@hkbu.edu.hk',\n",
       " 'mfung@hkbu.edu.hk',\n",
       " 'kenbess2000@hkbu.edu.hk',\n",
       " 'wtinchi@hkbu.edu.hk',\n",
       " 'miranda@hkbu.edu.hk',\n",
       " 'edwinluk@hkbu.edu.hk',\n",
       " 'alex_tang@hkbu.edu.hk',\n",
       " 'lennon@hkbu.edu.hk']"
      ]
     },
     "execution_count": 36,
     "metadata": {},
     "output_type": "execute_result"
    }
   ],
   "source": [
    "email=[]\n",
    "for item in contact:\n",
    "    t=item[(length+1):]\n",
    "    email.append(t)\n",
    "email"
   ]
  },
  {
   "cell_type": "code",
   "execution_count": 38,
   "metadata": {},
   "outputs": [
    {
     "data": {
      "text/plain": [
       "[['HUANG, YU 黃煜',\n",
       "  'Dean and Professor 教授兼院長',\n",
       "  'T: (852) 3411 7382',\n",
       "  's03033@hkbu.edu.hk'],\n",
       " ['LAU C. K. 劉志權',\n",
       "  'Associate Dean and Principal Lecturer 首席講師兼副院長',\n",
       "  'T: (852) 3411 2396',\n",
       "  'ck-lau@hkbu.edu.hk'],\n",
       " ['FUNG, Maggie S. K. 馮筱涓',\n",
       "  'Senior Lecturer 高級講師',\n",
       "  'T: (852) 3411 3151',\n",
       "  'mfung@hkbu.edu.hk'],\n",
       " ['WANG, Bess Y. 王悅',\n",
       "  'Senior Lecturer 高級講師',\n",
       "  'T: (852) 3411 3270',\n",
       "  'kenbess2000@hkbu.edu.hk'],\n",
       " ['WONG, Tin Chi 黃天賜',\n",
       "  'Senior Lecturer 高級講師',\n",
       "  'T: (852) 3411 3118',\n",
       "  'wtinchi@hkbu.edu.hk'],\n",
       " ['MA, Miranda L. Y. 馬麗儀',\n",
       "  'Lecturer 講師',\n",
       "  'T: (852) 3411 3046',\n",
       "  'miranda@hkbu.edu.hk'],\n",
       " ['LUK, Edwin K. C. 陸家稷',\n",
       "  'Lecturer 講師',\n",
       "  'T: (852) 3411 3137',\n",
       "  'edwinluk@hkbu.edu.hk'],\n",
       " ['TANG, Alex H. M. 鄧皓文',\n",
       "  'Lecturer 講師',\n",
       "  'T: (852) 3411 3163',\n",
       "  'alex_tang@hkbu.edu.hk'],\n",
       " ['TSANG, Lennon L. L. 曾良倫',\n",
       "  'Lecturer 講師',\n",
       "  'T: (852) 3411 3152',\n",
       "  'lennon@hkbu.edu.hk']]"
      ]
     },
     "execution_count": 38,
     "metadata": {},
     "output_type": "execute_result"
    }
   ],
   "source": [
    "totallist=[]\n",
    "for i in range(len(email)):\n",
    "    totallist.append([name[i],titles[i],telephone[i],email[i]])\n",
    "totallist"
   ]
  },
  {
   "cell_type": "code",
   "execution_count": 39,
   "metadata": {},
   "outputs": [],
   "source": [
    "with open('faculty_school_office.csv','w',newline='',encoding='utf8') as f:\n",
    "    writer = csv.writer(f)\n",
    "    header = ['Name','Title','Telephone','Email']\n",
    "    writer.writerow(header)\n",
    "    writer.writerows(totallist)"
   ]
  },
  {
   "cell_type": "code",
   "execution_count": 40,
   "metadata": {},
   "outputs": [
    {
     "name": "stdout",
     "output_type": "stream",
     "text": [
      "['Name', 'Title', 'Telephone', 'Email']\n",
      "['HUANG, YU 黃煜', 'Dean and Professor 教授兼院長', 'T: (852) 3411 7382', 's03033@hkbu.edu.hk']\n",
      "['LAU C. K. 劉志權', 'Associate Dean and Principal Lecturer 首席講師兼副院長', 'T: (852) 3411 2396', 'ck-lau@hkbu.edu.hk']\n",
      "['FUNG, Maggie S. K. 馮筱涓', 'Senior Lecturer 高級講師', 'T: (852) 3411 3151', 'mfung@hkbu.edu.hk']\n",
      "['WANG, Bess Y. 王悅', 'Senior Lecturer 高級講師', 'T: (852) 3411 3270', 'kenbess2000@hkbu.edu.hk']\n",
      "['WONG, Tin Chi 黃天賜', 'Senior Lecturer 高級講師', 'T: (852) 3411 3118', 'wtinchi@hkbu.edu.hk']\n",
      "['MA, Miranda L. Y. 馬麗儀', 'Lecturer 講師', 'T: (852) 3411 3046', 'miranda@hkbu.edu.hk']\n",
      "['LUK, Edwin K. C. 陸家稷', 'Lecturer 講師', 'T: (852) 3411 3137', 'edwinluk@hkbu.edu.hk']\n",
      "['TANG, Alex H. M. 鄧皓文', 'Lecturer 講師', 'T: (852) 3411 3163', 'alex_tang@hkbu.edu.hk']\n",
      "['TSANG, Lennon L. L. 曾良倫', 'Lecturer 講師', 'T: (852) 3411 3152', 'lennon@hkbu.edu.hk']\n"
     ]
    }
   ],
   "source": [
    "with open('faculty_school_office.csv','r',encoding='utf8') as f:\n",
    "\trows = csv.reader(f)\n",
    "\tfor row in rows:\n",
    "\t\tprint(row)"
   ]
  }
 ],
 "metadata": {
  "kernelspec": {
   "display_name": "Python 3",
   "language": "python",
   "name": "python3"
  },
  "language_info": {
   "codemirror_mode": {
    "name": "ipython",
    "version": 3
   },
   "file_extension": ".py",
   "mimetype": "text/x-python",
   "name": "python",
   "nbconvert_exporter": "python",
   "pygments_lexer": "ipython3",
   "version": "3.7.0"
  }
 },
 "nbformat": 4,
 "nbformat_minor": 2
}
